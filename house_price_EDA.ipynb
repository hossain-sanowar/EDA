{
 "cells": [
  {
   "cell_type": "markdown",
   "id": "5ee28deb",
   "metadata": {},
   "source": [
    "# importing libraries"
   ]
  },
  {
   "cell_type": "code",
   "execution_count": null,
   "id": "05162c96",
   "metadata": {},
   "outputs": [],
   "source": [
    "import numpy as np\n",
    "import pandas as pd\n",
    "import matplotlib.pyplot as plt\n",
    "%matplotlib inline\n",
    "import seaborn as sns\n",
    "\n",
    "pd.pandas.set_option('display.max_columns',None)"
   ]
  },
  {
   "cell_type": "markdown",
   "id": "8cdf3cba",
   "metadata": {},
   "source": [
    "# loading dataset"
   ]
  },
  {
   "cell_type": "code",
   "execution_count": null,
   "id": "9cd817e6",
   "metadata": {},
   "outputs": [],
   "source": [
    "ls"
   ]
  },
  {
   "cell_type": "code",
   "execution_count": null,
   "id": "877ddf92",
   "metadata": {},
   "outputs": [],
   "source": [
    "data=pd.read_csv(\"train.csv\")\n",
    "df=data.copy()\n",
    "df.sample(4)"
   ]
  },
  {
   "cell_type": "markdown",
   "id": "3a654f23",
   "metadata": {},
   "source": [
    "# Data Information"
   ]
  },
  {
   "cell_type": "code",
   "execution_count": null,
   "id": "0afcc638",
   "metadata": {},
   "outputs": [],
   "source": [
    "df.shape #number of rows and columns"
   ]
  },
  {
   "cell_type": "code",
   "execution_count": null,
   "id": "f484d0ed",
   "metadata": {},
   "outputs": [],
   "source": [
    "df.info()#focus on data type and count values"
   ]
  },
  {
   "cell_type": "code",
   "execution_count": null,
   "id": "b633917d",
   "metadata": {},
   "outputs": [],
   "source": [
    "df.describe().T#descriptive statistics"
   ]
  },
  {
   "cell_type": "markdown",
   "id": "161aff3b",
   "metadata": {},
   "source": [
    "# Missing values"
   ]
  },
  {
   "cell_type": "code",
   "execution_count": null,
   "id": "766af40c",
   "metadata": {},
   "outputs": [],
   "source": [
    "df['LotFrontage'].isnull().sum()"
   ]
  },
  {
   "cell_type": "code",
   "execution_count": null,
   "id": "43d0ebbb",
   "metadata": {},
   "outputs": [],
   "source": [
    "print('LotFrontage:',np.round(df['LotFrontage'].isnull().mean()*100,2),'% missing values')"
   ]
  },
  {
   "cell_type": "markdown",
   "id": "7956f5e8",
   "metadata": {},
   "source": [
    "### using for loop"
   ]
  },
  {
   "cell_type": "code",
   "execution_count": null,
   "id": "9aa46cab",
   "metadata": {},
   "outputs": [],
   "source": [
    "features_with_na=[]\n",
    "for feature in df.columns:\n",
    "    if df[feature].isnull().sum()>0:\n",
    "        #print(feature)\n",
    "        features_with_na.append(feature)"
   ]
  },
  {
   "cell_type": "code",
   "execution_count": null,
   "id": "b9236675",
   "metadata": {},
   "outputs": [],
   "source": [
    "for feature in features_with_na:\n",
    "    print(feature, np.round(df[feature].isnull().mean()*100,4),'% missing values')"
   ]
  },
  {
   "cell_type": "markdown",
   "id": "580c4c2a",
   "metadata": {},
   "source": [
    "### using loop expression"
   ]
  },
  {
   "cell_type": "code",
   "execution_count": null,
   "id": "58d9ccaa",
   "metadata": {},
   "outputs": [],
   "source": [
    "feature_with_na=[feature for feature in df.columns if df[feature].isnull().sum()>0]\n"
   ]
  },
  {
   "cell_type": "code",
   "execution_count": null,
   "id": "29b1ddc4",
   "metadata": {},
   "outputs": [],
   "source": [
    "for feature in feature_with_na:\n",
    "    print(feature,np.round(df[feature].isnull().mean()*100,4),'% missing values')"
   ]
  },
  {
   "cell_type": "markdown",
   "id": "4b6f900c",
   "metadata": {},
   "source": [
    "# Outlier"
   ]
  },
  {
   "cell_type": "code",
   "execution_count": null,
   "id": "cfe4addb",
   "metadata": {
    "scrolled": true
   },
   "outputs": [],
   "source": [
    "df['SalePrice'].plot(kind='box')"
   ]
  },
  {
   "cell_type": "markdown",
   "id": "b5e46579",
   "metadata": {},
   "source": [
    "`Observation`: there are huge outlier, that's why I have applied meadin value"
   ]
  },
  {
   "cell_type": "markdown",
   "id": "3c28e89f",
   "metadata": {},
   "source": [
    "# Filling the missing value by 1 and compare with the target feature"
   ]
  },
  {
   "cell_type": "code",
   "execution_count": null,
   "id": "9cfdadee",
   "metadata": {},
   "outputs": [],
   "source": [
    "for feature in features_with_na:\n",
    "    data=df.copy()\n",
    "    data[feature]=np.where(df[feature].isnull(),1,0)\n",
    "    data.groupby(feature)['SalePrice'].median().plot.bar()#out lier that's whay outlier is applied\n",
    "    plt.title(feature)\n",
    "    plt.show()"
   ]
  },
  {
   "cell_type": "code",
   "execution_count": null,
   "id": "b89763ef",
   "metadata": {},
   "outputs": [],
   "source": [
    "print('ID of House {}'.format(len(df.Id)))"
   ]
  },
  {
   "cell_type": "markdown",
   "id": "d2fe1262",
   "metadata": {},
   "source": [
    "# Temporal Variable (Datetime Variable)"
   ]
  },
  {
   "cell_type": "code",
   "execution_count": null,
   "id": "0f10c0a3",
   "metadata": {},
   "outputs": [],
   "source": [
    "date_feature=[feature for feature in df.columns if 'Yr' in feature or 'Year' in feature]"
   ]
  },
  {
   "cell_type": "code",
   "execution_count": null,
   "id": "3f075780",
   "metadata": {},
   "outputs": [],
   "source": [
    "df[date_feature]"
   ]
  },
  {
   "cell_type": "code",
   "execution_count": null,
   "id": "00ae3098",
   "metadata": {},
   "outputs": [],
   "source": [
    "for feature in date_feature:\n",
    "    print(feature,df[feature].unique())"
   ]
  },
  {
   "cell_type": "code",
   "execution_count": null,
   "id": "bf7f4d7c",
   "metadata": {},
   "outputs": [],
   "source": [
    "for feature in date_feature:\n",
    "    if feature!='YrSold':\n",
    "        df[feature]=df['YrSold']-df[feature]\n",
    "        plt.scatter(df[feature],df['SalePrice'])\n",
    "        plt.xlabel(feature)\n",
    "        plt.ylabel('SalePrice')\n",
    "        plt.show()\n",
    "    "
   ]
  },
  {
   "cell_type": "markdown",
   "id": "c62da37c",
   "metadata": {},
   "source": [
    "# Numerical Features"
   ]
  },
  {
   "cell_type": "code",
   "execution_count": null,
   "id": "02f236ad",
   "metadata": {},
   "outputs": [],
   "source": [
    "numerical_features=[feature for feature in df.columns if df[feature].dtype!=\"O\"]"
   ]
  },
  {
   "cell_type": "code",
   "execution_count": null,
   "id": "ccb69a60",
   "metadata": {},
   "outputs": [],
   "source": [
    "print('number of numerical feature {}'.format(len(numerical_features)))"
   ]
  },
  {
   "cell_type": "code",
   "execution_count": null,
   "id": "3ced29fd",
   "metadata": {},
   "outputs": [],
   "source": [
    "df[numerical_features]"
   ]
  },
  {
   "cell_type": "markdown",
   "id": "d59c0853",
   "metadata": {},
   "source": [
    "# Discreate Variable"
   ]
  },
  {
   "cell_type": "markdown",
   "id": "39bfb7ca",
   "metadata": {},
   "source": [
    "There are two types of number:\n",
    "1. Contious number: which is contious number\n",
    "2. Discreate number: which is discreate number whose number of unique value is less than 25"
   ]
  },
  {
   "cell_type": "code",
   "execution_count": null,
   "id": "8fe9f653",
   "metadata": {},
   "outputs": [],
   "source": [
    "discreate_feature=[feature for feature in numerical_features if len(df[feature].unique())<25 and feature not in date_feature +['Id']]\n",
    "print('Number of discreate variable {}'.format(len(discreate_feature)))"
   ]
  },
  {
   "cell_type": "code",
   "execution_count": null,
   "id": "04477a0c",
   "metadata": {},
   "outputs": [],
   "source": [
    "discreate_feature"
   ]
  },
  {
   "cell_type": "code",
   "execution_count": null,
   "id": "5d9bc145",
   "metadata": {},
   "outputs": [],
   "source": [
    "df[discreate_feature]"
   ]
  },
  {
   "cell_type": "markdown",
   "id": "78970f34",
   "metadata": {},
   "source": [
    "# find the relationship between discreate_feature and SalePrice"
   ]
  },
  {
   "cell_type": "code",
   "execution_count": null,
   "id": "244dfe65",
   "metadata": {},
   "outputs": [],
   "source": [
    "for feature in discreate_feature:\n",
    "    data=df.copy()\n",
    "    data.groupby(feature)['SalePrice'].median().plot.bar()\n",
    "    plt.title(feature)\n",
    "    plt.show()"
   ]
  },
  {
   "cell_type": "markdown",
   "id": "b7f093cf",
   "metadata": {},
   "source": [
    "# Relationship between continous number and SalePrice"
   ]
  },
  {
   "cell_type": "code",
   "execution_count": null,
   "id": "b48f4b35",
   "metadata": {},
   "outputs": [],
   "source": [
    "continou_features=[feature for feature in numerical_features if len(df[feature].unique())>25 and feature not in date_feature + ['Id']]"
   ]
  },
  {
   "cell_type": "code",
   "execution_count": null,
   "id": "954e7c28",
   "metadata": {},
   "outputs": [],
   "source": [
    "df[continou_features]"
   ]
  },
  {
   "cell_type": "code",
   "execution_count": null,
   "id": "4481e73e",
   "metadata": {},
   "outputs": [],
   "source": [
    "print('number of contious feature {}'.format(len(continou_features)))"
   ]
  },
  {
   "cell_type": "code",
   "execution_count": null,
   "id": "2d9f8200",
   "metadata": {},
   "outputs": [],
   "source": [
    "for feature in continou_features:\n",
    "    data=df.copy()\n",
    "    data[feature].hist(bins=25)\n",
    "    plt.xlabel(feature)\n",
    "    plt.ylabel('Count')\n",
    "    plt.title(feature)\n",
    "    plt.show()\n",
    "    "
   ]
  },
  {
   "cell_type": "markdown",
   "id": "d96a8c46",
   "metadata": {},
   "source": [
    "# Logarithmic transformation"
   ]
  },
  {
   "cell_type": "code",
   "execution_count": null,
   "id": "c91d0f84",
   "metadata": {},
   "outputs": [],
   "source": [
    "df['LotFrontage'].unique()"
   ]
  },
  {
   "cell_type": "code",
   "execution_count": null,
   "id": "b8ad427a",
   "metadata": {},
   "outputs": [],
   "source": [
    "for feature in continou_features:\n",
    "    data=df.copy()\n",
    "    if 0 in data[feature].unique():\n",
    "        pass\n",
    "    else:\n",
    "        data[feature]=np.log(data[feature])\n",
    "        data['SalePrice']=np.log(data['SalePrice'])\n",
    "        plt.scatter(data[feature],data['SalePrice'])\n",
    "        plt.xlabel(feature)\n",
    "        plt.ylabel('SalePrice')\n",
    "        plt.title(feature)\n",
    "        plt.show()\n",
    "    "
   ]
  },
  {
   "cell_type": "markdown",
   "id": "17c16958",
   "metadata": {},
   "source": [
    "# Outliers"
   ]
  },
  {
   "cell_type": "code",
   "execution_count": null,
   "id": "b337cd9b",
   "metadata": {},
   "outputs": [],
   "source": [
    "for feature in continou_features:\n",
    "    data=df.copy()\n",
    "    if 0 in df[feature].unique():\n",
    "        pass\n",
    "    else:\n",
    "        df[feature]=np.log(df[feature])\n",
    "        data.boxplot(feature)\n",
    "        plt.title(feature)\n",
    "        plt.ylabel(feature)\n",
    "        plt.show()"
   ]
  },
  {
   "cell_type": "markdown",
   "id": "e0582c0e",
   "metadata": {},
   "source": [
    "# Categorical Feature"
   ]
  },
  {
   "cell_type": "code",
   "execution_count": null,
   "id": "36c8c829",
   "metadata": {},
   "outputs": [],
   "source": [
    "categorical_feature=[feature for feature in df.columns if df[feature].dtypes=='O']\n",
    "categorical_feature"
   ]
  },
  {
   "cell_type": "code",
   "execution_count": null,
   "id": "5adede18",
   "metadata": {},
   "outputs": [],
   "source": [
    "df[categorical_feature]"
   ]
  },
  {
   "cell_type": "code",
   "execution_count": null,
   "id": "66921424",
   "metadata": {},
   "outputs": [],
   "source": [
    "for feature in categorical_feature:\n",
    "    print('Number of {} features: {}'.format(feature,len(feature)))"
   ]
  },
  {
   "cell_type": "code",
   "execution_count": null,
   "id": "96dcad43",
   "metadata": {},
   "outputs": [],
   "source": [
    "for feature in categorical_feature:\n",
    "    data=df.copy()\n",
    "    data.groupby(feature)['SalePrice'].median().plot.bar()\n",
    "    plt.title(feature)\n",
    "    plt.show()"
   ]
  },
  {
   "cell_type": "markdown",
   "id": "40e83fab",
   "metadata": {},
   "source": [
    "# Duplicate"
   ]
  },
  {
   "cell_type": "code",
   "execution_count": null,
   "id": "a1634f60",
   "metadata": {},
   "outputs": [],
   "source": [
    "df[df.duplicated()]"
   ]
  },
  {
   "cell_type": "code",
   "execution_count": null,
   "id": "42e9ecda",
   "metadata": {},
   "outputs": [],
   "source": [
    "df.nunique()"
   ]
  },
  {
   "cell_type": "code",
   "execution_count": null,
   "id": "62082e05",
   "metadata": {},
   "outputs": [],
   "source": []
  }
 ],
 "metadata": {
  "kernelspec": {
   "display_name": "Python 3.9 (tensorflow)",
   "language": "python",
   "name": "tensorflow"
  },
  "language_info": {
   "codemirror_mode": {
    "name": "ipython",
    "version": 3
   },
   "file_extension": ".py",
   "mimetype": "text/x-python",
   "name": "python",
   "nbconvert_exporter": "python",
   "pygments_lexer": "ipython3",
   "version": "3.9.7"
  }
 },
 "nbformat": 4,
 "nbformat_minor": 5
}
