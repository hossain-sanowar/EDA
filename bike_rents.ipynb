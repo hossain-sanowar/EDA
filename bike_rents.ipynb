{
 "cells": [
  {
   "cell_type": "markdown",
   "id": "5ca729c3",
   "metadata": {},
   "source": [
    "##total count of bikes rented during each hour"
   ]
  },
  {
   "cell_type": "markdown",
   "id": "59f3cad5",
   "metadata": {},
   "source": [
    "# Importing libraries"
   ]
  },
  {
   "cell_type": "code",
   "execution_count": null,
   "id": "fa25ae76",
   "metadata": {},
   "outputs": [],
   "source": [
    "import numpy as np\n",
    "import pandas as pd\n",
    "import matplotlib.pyplot as plt\n",
    "%matplotlib inline\n",
    "import seaborn as sns\n",
    "import os"
   ]
  },
  {
   "cell_type": "markdown",
   "id": "7fb91c3b",
   "metadata": {},
   "source": [
    "# loading dataset"
   ]
  },
  {
   "cell_type": "code",
   "execution_count": null,
   "id": "298124da",
   "metadata": {},
   "outputs": [],
   "source": [
    "path=\"../bikes/train_bikes.csv\"\n",
    "dataset=pd.read_csv(path)\n",
    "df=dataset.copy()\n",
    "df.head()"
   ]
  },
  {
   "cell_type": "markdown",
   "id": "388956c0",
   "metadata": {},
   "source": [
    "# Basic statistic "
   ]
  },
  {
   "cell_type": "code",
   "execution_count": null,
   "id": "694c3985",
   "metadata": {},
   "outputs": [],
   "source": [
    "df.shape"
   ]
  },
  {
   "cell_type": "code",
   "execution_count": null,
   "id": "113c779d",
   "metadata": {},
   "outputs": [],
   "source": [
    "df.info()"
   ]
  },
  {
   "cell_type": "code",
   "execution_count": null,
   "id": "0cb0747f",
   "metadata": {},
   "outputs": [],
   "source": [
    "df.describe().T"
   ]
  },
  {
   "cell_type": "markdown",
   "id": "07994f09",
   "metadata": {},
   "source": [
    "# Numerical features"
   ]
  },
  {
   "cell_type": "code",
   "execution_count": null,
   "id": "20c546c7",
   "metadata": {},
   "outputs": [],
   "source": [
    "numerical_features=[feature for feature in df.columns if df[feature].dtype!='O']"
   ]
  },
  {
   "cell_type": "code",
   "execution_count": null,
   "id": "69f043b4",
   "metadata": {},
   "outputs": [],
   "source": [
    "df[numerical_features]"
   ]
  },
  {
   "cell_type": "code",
   "execution_count": null,
   "id": "1121ca43",
   "metadata": {},
   "outputs": [],
   "source": [
    "df['season'].unique()<25"
   ]
  },
  {
   "cell_type": "markdown",
   "id": "f7cfe844",
   "metadata": {},
   "source": [
    "## Discreate Features"
   ]
  },
  {
   "cell_type": "code",
   "execution_count": null,
   "id": "36eaf5e1",
   "metadata": {},
   "outputs": [],
   "source": [
    "discreate_feature=[feature for feature in numerical_features if len(df[feature].unique())<25]"
   ]
  },
  {
   "cell_type": "code",
   "execution_count": null,
   "id": "5509de6e",
   "metadata": {},
   "outputs": [],
   "source": [
    "for feature in discreate_feature:\n",
    "    data=df.copy()\n",
    "    data.groupby(feature)['count'].median().plot.bar()\n",
    "    plt.title(feature)\n",
    "    plt.show()"
   ]
  },
  {
   "cell_type": "markdown",
   "id": "a4c683e6",
   "metadata": {},
   "source": [
    "## Contious feature"
   ]
  },
  {
   "cell_type": "code",
   "execution_count": null,
   "id": "445a57df",
   "metadata": {},
   "outputs": [],
   "source": [
    "continous_feature=[feature for feature in numerical_features if len(df[feature].unique())>=25]"
   ]
  },
  {
   "cell_type": "code",
   "execution_count": null,
   "id": "5d579bda",
   "metadata": {},
   "outputs": [],
   "source": [
    "df[continous_feature]"
   ]
  },
  {
   "cell_type": "code",
   "execution_count": null,
   "id": "326e1da1",
   "metadata": {},
   "outputs": [],
   "source": [
    "for feature in continous_feature:\n",
    "    data=df.copy()\n",
    "    plt.scatter(data[feature],data['count'])\n",
    "    plt.title(feature)\n",
    "    plt.xlabel(feature)\n",
    "    plt.ylabel('count')\n",
    "    plt.show()"
   ]
  },
  {
   "cell_type": "code",
   "execution_count": null,
   "id": "6be3a01b",
   "metadata": {},
   "outputs": [],
   "source": [
    "# hist plot\n",
    "for feature in continous_feature:\n",
    "    data=df.copy()\n",
    "    data[feature].hist(bins=25)\n",
    "    plt.title(feature)\n",
    "    plt.show()"
   ]
  },
  {
   "cell_type": "markdown",
   "id": "ca3d858d",
   "metadata": {},
   "source": [
    "# Logarithmic transformation"
   ]
  },
  {
   "cell_type": "code",
   "execution_count": null,
   "id": "4911d7ca",
   "metadata": {},
   "outputs": [],
   "source": [
    "for feature in continous_feature:\n",
    "    data=df.copy()\n",
    "    if 0 in data[feature].unique():\n",
    "        pass\n",
    "    else:\n",
    "        data[feature]=np.log(data[feature])\n",
    "        data['count']= np.log(data['count'])\n",
    "        plt.scatter(df[feature],df['count'])\n",
    "        plt.title(feature)\n",
    "        plt.show()"
   ]
  },
  {
   "cell_type": "markdown",
   "id": "2ca00010",
   "metadata": {},
   "source": [
    "# Outliers"
   ]
  },
  {
   "cell_type": "code",
   "execution_count": null,
   "id": "aa1b2627",
   "metadata": {},
   "outputs": [],
   "source": [
    "for feature in numerical_features:\n",
    "    data=df.copy()\n",
    "    data.boxplot(feature)\n",
    "    plt.title(feature)\n",
    "    plt.show()"
   ]
  },
  {
   "cell_type": "markdown",
   "id": "6efe089a",
   "metadata": {},
   "source": [
    "# Missing value"
   ]
  },
  {
   "cell_type": "code",
   "execution_count": null,
   "id": "05b6cbc9",
   "metadata": {},
   "outputs": [],
   "source": [
    "df.isnull().sum()"
   ]
  },
  {
   "cell_type": "code",
   "execution_count": null,
   "id": "09cb89de",
   "metadata": {},
   "outputs": [],
   "source": [
    "features_with_na=[feature for feature in df.columns if df[feature].isnull().mean()]\n",
    "for feature in features_with_na:\n",
    "    print(\"missing value of {} is {}\".format(feature,np.round(df[feature].isnull().mean())*100,4),'% missing')\n",
    "else:\n",
    "    print('there is no missing value')"
   ]
  },
  {
   "cell_type": "code",
   "execution_count": null,
   "id": "9941addc",
   "metadata": {},
   "outputs": [],
   "source": [
    "df.head()"
   ]
  },
  {
   "cell_type": "markdown",
   "id": "8cfcd42f",
   "metadata": {},
   "source": [
    "# Converting datetime to Year, Month, Day, Hours"
   ]
  },
  {
   "cell_type": "code",
   "execution_count": null,
   "id": "1967c7e2",
   "metadata": {},
   "outputs": [],
   "source": [
    "df['datetime_new']=pd.to_datetime(df['datetime'])"
   ]
  },
  {
   "cell_type": "code",
   "execution_count": null,
   "id": "09f78fe5",
   "metadata": {},
   "outputs": [],
   "source": [
    "df.head()"
   ]
  },
  {
   "cell_type": "code",
   "execution_count": null,
   "id": "9b9cecc9",
   "metadata": {},
   "outputs": [],
   "source": [
    "df['Year']=df['datetime_new'].map(lambda x: x.year)\n",
    "df['Month']=df['datetime_new'].map(lambda x:x.month)\n",
    "df['Day']=df['datetime_new'].map(lambda x: x.day)\n",
    "df['Hour']=df['datetime_new'].map(lambda x:x.hour)"
   ]
  },
  {
   "cell_type": "code",
   "execution_count": null,
   "id": "88979123",
   "metadata": {},
   "outputs": [],
   "source": [
    "df.sample(4)"
   ]
  },
  {
   "cell_type": "code",
   "execution_count": null,
   "id": "6e4bc574",
   "metadata": {},
   "outputs": [],
   "source": [
    "df['Day'].unique()"
   ]
  },
  {
   "cell_type": "markdown",
   "id": "4262b547",
   "metadata": {},
   "source": [
    "## Define hourly plot for working day and non working day in whole year \n",
    " here, 1:working day\n",
    "       0: non working day"
   ]
  },
  {
   "cell_type": "code",
   "execution_count": null,
   "id": "82519da6",
   "metadata": {
    "scrolled": true
   },
   "outputs": [],
   "source": [
    "df.groupby(['Hour','workingday'])['count'].sum().unstack().plot.bar(figsize=(15,4), width=0.9)"
   ]
  },
  {
   "cell_type": "code",
   "execution_count": null,
   "id": "4b2f2c27",
   "metadata": {},
   "outputs": [],
   "source": [
    "#df[df.Year==2011]"
   ]
  },
  {
   "cell_type": "markdown",
   "id": "cae81ade",
   "metadata": {},
   "source": [
    "## Define hourly plot for working day and non working day in 2011 and 2012"
   ]
  },
  {
   "cell_type": "code",
   "execution_count": null,
   "id": "7d9d55b7",
   "metadata": {},
   "outputs": [],
   "source": [
    "def define_hourly_work_plot(df, year=None,agg='sum'):\n",
    "    data=df[df.Year==year]\n",
    "    hourly_data=data.groupby(['Hour','workingday'])['count'].agg(agg).unstack()\n",
    "    hourly_plot=hourly_data.plot(kind='bar', ylim=(0,110000),\n",
    "                                 figsize=(15,5),\n",
    "                                 width=0.9,\n",
    "                                 title='Year={}'.format(year))\n",
    "\n",
    "    return hourly_plot\n",
    "    "
   ]
  },
  {
   "cell_type": "code",
   "execution_count": null,
   "id": "d7056b40",
   "metadata": {},
   "outputs": [],
   "source": [
    "define_hourly_work_plot(df,year=2011)\n",
    "define_hourly_work_plot(df,year=2012)"
   ]
  },
  {
   "cell_type": "markdown",
   "id": "276c5860",
   "metadata": {},
   "source": [
    "# Define hourly plot in 2011 and 2012"
   ]
  },
  {
   "cell_type": "code",
   "execution_count": null,
   "id": "c8d72661",
   "metadata": {},
   "outputs": [],
   "source": [
    "df.groupby(['Hour'])['count'].sum().plot.bar()"
   ]
  },
  {
   "cell_type": "code",
   "execution_count": null,
   "id": "e538e83d",
   "metadata": {},
   "outputs": [],
   "source": [
    "def define_hourly_plot(df, year=None,agg='sum'):\n",
    "    data=df[df.Year==year]\n",
    "    hourly_data=data.groupby(['Hour'])['count'].agg(agg)\n",
    "    hourly_plot=hourly_data.plot(kind='bar', ylim=(0,140000),\n",
    "                                 figsize=(15,5),\n",
    "                                 width=0.9,\n",
    "                                 title='Year={}'.format(year))\n",
    "\n",
    "    return hourly_plot"
   ]
  },
  {
   "cell_type": "code",
   "execution_count": null,
   "id": "b01264f0",
   "metadata": {},
   "outputs": [],
   "source": [
    "define_hourly_plot(df,year=2011)"
   ]
  },
  {
   "cell_type": "code",
   "execution_count": null,
   "id": "1bdea586",
   "metadata": {},
   "outputs": [],
   "source": [
    "define_hourly_plot(df,year=2012)"
   ]
  },
  {
   "cell_type": "markdown",
   "id": "ad88dfd9",
   "metadata": {},
   "source": [
    "# Comparison Year to Year data"
   ]
  },
  {
   "cell_type": "code",
   "execution_count": null,
   "id": "7478779e",
   "metadata": {},
   "outputs": [],
   "source": [
    "def houly_plot_years(attr,title):\n",
    "    data=df.copy()\n",
    "    hourly_data_year=data.groupby([attr,'Year'])['count'].agg('sum').unstack()\n",
    "    hourly_data_year_plot=hourly_data_year.plot(kind='bar',figsize=(15,5),width=0.9, title=title)\n",
    "    \n",
    "    return hourly_data_year_plot"
   ]
  },
  {
   "cell_type": "code",
   "execution_count": null,
   "id": "ae7962ef",
   "metadata": {},
   "outputs": [],
   "source": [
    "df['Hour'].unique()"
   ]
  },
  {
   "cell_type": "code",
   "execution_count": null,
   "id": "c6376ec8",
   "metadata": {},
   "outputs": [],
   "source": [
    "houly_plot_years('Hour',\"Rent bikes per hour in 2011 and 2012\")\n",
    "houly_plot_years('Day',\"Rent bikes per Day in 2011 and 2012\")\n",
    "houly_plot_years('Month',\"Rent bikes per Month in 2011 and 2012\")"
   ]
  },
  {
   "cell_type": "markdown",
   "id": "b7edde49",
   "metadata": {},
   "source": [
    "# Daywise count for specific hour"
   ]
  },
  {
   "cell_type": "code",
   "execution_count": null,
   "id": "31a1e79e",
   "metadata": {
    "scrolled": true
   },
   "outputs": [],
   "source": [
    "df[(df['Year']==2011) & (df['Month']==1)& (df['Day']==1)&(df['Hour']==0)]['count'].values"
   ]
  },
  {
   "cell_type": "code",
   "execution_count": null,
   "id": "462f0b84",
   "metadata": {},
   "outputs": [],
   "source": [
    "data=df.copy()\n",
    "data1=data[(data['Year']==2011) & (data['Month']==1)]\n",
    "data1[(data1.Day==1)&(data1.Hour==0)]['count'].values"
   ]
  },
  {
   "cell_type": "code",
   "execution_count": null,
   "id": "0da93e6a",
   "metadata": {},
   "outputs": [],
   "source": [
    "data1[(data1.Day==2)&(data1.Hour==0)]['count'].values"
   ]
  },
  {
   "cell_type": "code",
   "execution_count": null,
   "id": "1ab8852b",
   "metadata": {},
   "outputs": [],
   "source": [
    "data1[(data1.Day==19)&(data1.Hour==0)]['count'].values"
   ]
  },
  {
   "cell_type": "code",
   "execution_count": null,
   "id": "7be96093",
   "metadata": {},
   "outputs": [],
   "source": [
    "data1[(data1.Day==20)&(data1.Hour==0)]['count'].values"
   ]
  },
  {
   "cell_type": "code",
   "execution_count": null,
   "id": "cbc85bec",
   "metadata": {},
   "outputs": [],
   "source": [
    "days={}\n",
    "data=df.copy()\n",
    "data1=data[(data['Year']==2011) & (data['Month']==1)]\n",
    "\n",
    "for day in range(1,20):\n",
    "    days[day]=data1[(data1.Day==day)&(data1.Hour==0)]['count'].values\n",
    "#print(hours)\n",
    "\n",
    "plt.figure(figsize=(15,5))\n",
    "for key,val in days.items():\n",
    "    #print(key,val)\n",
    "    plt.bar(key, val)\n",
    "    plt.xticks(range(0,20))\n",
    "    plt.xlabel('Day')\n",
    "    plt.ylabel('count')\n",
    "    plt.title('bikes rent at 1st hour of January, 2011')"
   ]
  },
  {
   "cell_type": "code",
   "execution_count": null,
   "id": "9aec282a",
   "metadata": {},
   "outputs": [],
   "source": [
    "days={}\n",
    "data=df.copy()\n",
    "data1=data[(data['Year']==2011) & (data['Month']==1)]\n",
    "for i in range(1,24):\n",
    "    for day in range(1,20):\n",
    "        days[day]=data1[(data1.Day==day)&(data1.Hour==i)]['count'].values\n",
    "    #print(hours)\n",
    "\n",
    "    plt.figure(figsize=(15,5))\n",
    "    for key,val in days.items():\n",
    "        #print(key,val)\n",
    "        plt.bar(key, val)\n",
    "        plt.xticks(range(0,20))\n",
    "        plt.xlabel('Day')\n",
    "        plt.ylabel('count')\n",
    "        plt.title('bikes rent at {} hour of January, 2011'.format(i))"
   ]
  },
  {
   "cell_type": "markdown",
   "id": "3d3ba14d",
   "metadata": {},
   "source": [
    "# Using Box Plot"
   ]
  },
  {
   "cell_type": "markdown",
   "id": "c86a4234",
   "metadata": {},
   "source": [
    "# Yearwise hourly count"
   ]
  },
  {
   "cell_type": "code",
   "execution_count": null,
   "id": "71474ef0",
   "metadata": {},
   "outputs": [],
   "source": [
    "def box_year_hourly(df,message=''):\n",
    "    data=df.copy()\n",
    "    hours={}\n",
    "    for hour in range(24):\n",
    "        hours[hour]=data[data.Hour==hour]['count'].values\n",
    "    \n",
    "    plt.figure(figsize=(20,10))\n",
    "    plt.xlabel('Hours')\n",
    "    plt.ylabel('Count rent')\n",
    "    plt.title('count vs hours\\n'+message)\n",
    "    plt.boxplot([hours[hour] for hour in range(24)])\n",
    "    \n",
    "    axis=plt.gca()\n",
    "    axis.set_ylim([1,1100])"
   ]
  },
  {
   "cell_type": "code",
   "execution_count": null,
   "id": "3d04b31e",
   "metadata": {},
   "outputs": [],
   "source": [
    "# box plot for hourly count for the mentioned year\n",
    "box_year_hourly(df[df['Year']==2011],'year 2011')\n",
    "box_year_hourly(df[df['Year']==2012],'year 2012')"
   ]
  },
  {
   "cell_type": "code",
   "execution_count": null,
   "id": "907d0c25",
   "metadata": {},
   "outputs": [],
   "source": [
    "\n",
    "box_year_hourly( df[df.workingday == 1], 'working day') # plotting hourly count of rented bikes for working days for a given year\n",
    "box_year_hourly( df[df.workingday == 0], 'non working day') # plotting hourly count of rented bikes for non-working days for a given year"
   ]
  },
  {
   "cell_type": "code",
   "execution_count": null,
   "id": "2ad0b788",
   "metadata": {},
   "outputs": [],
   "source": [
    "# an Hour bs Count Graph depicting average bike demand based on the hour \n",
    "figure,axes = plt.subplots(figsize = (10, 5))\n",
    "hours = df.groupby([\"Hour\"]).agg(\"mean\")[\"count\"]  \n",
    "hours.plot(kind=\"line\", ax=axes) \n",
    "plt.title('Hours VS Counts')\n",
    "axes.set_xlabel('Time in Hours')\n",
    "axes.set_ylabel('Average of the Bike Demand')\n",
    "plt.show()"
   ]
  },
  {
   "cell_type": "markdown",
   "id": "d5857b7b",
   "metadata": {},
   "source": [
    "# define range of hour values"
   ]
  },
  {
   "cell_type": "code",
   "execution_count": null,
   "id": "58cd8cd4",
   "metadata": {},
   "outputs": [],
   "source": [
    "def range_to_group(x):\n",
    "    if 0<=x<6:\n",
    "        return 0\n",
    "    elif 6<=x<13:\n",
    "        return 1\n",
    "    elif 13<=x<19:\n",
    "        return 2\n",
    "    elif 19<=x<24:\n",
    "        return 3"
   ]
  },
  {
   "cell_type": "code",
   "execution_count": null,
   "id": "0f32241a",
   "metadata": {},
   "outputs": [],
   "source": [
    "df['Hour2']=df['Hour'].apply(range_to_group)"
   ]
  },
  {
   "cell_type": "code",
   "execution_count": null,
   "id": "1bb71269",
   "metadata": {},
   "outputs": [],
   "source": [
    "# an Hour bs Count Graph depicting average bike demand based on the hour \n",
    "figure,axes = plt.subplots(figsize = (10, 5))\n",
    "hours = df.groupby([\"Hour2\"]).agg(\"mean\")[\"count\"]  \n",
    "hours.plot(kind=\"line\", ax=axes) \n",
    "plt.title('Hours VS Counts')\n",
    "axes.set_xlabel('Time in Hours')\n",
    "axes.set_ylabel('Average of the Bike Demand')\n",
    "plt.show()"
   ]
  },
  {
   "cell_type": "code",
   "execution_count": null,
   "id": "2739ef31",
   "metadata": {},
   "outputs": [],
   "source": [
    "df.sample(5)"
   ]
  },
  {
   "cell_type": "markdown",
   "id": "132b6fee",
   "metadata": {},
   "source": [
    "# What is the relationship between temp and count"
   ]
  },
  {
   "cell_type": "code",
   "execution_count": null,
   "id": "4e560e94",
   "metadata": {},
   "outputs": [],
   "source": [
    "df['temp'].hist()"
   ]
  },
  {
   "cell_type": "code",
   "execution_count": null,
   "id": "2a64565b",
   "metadata": {},
   "outputs": [],
   "source": [
    "df.groupby(['temp'])['count'].mean().plot()\n",
    "plt.show()"
   ]
  },
  {
   "cell_type": "code",
   "execution_count": null,
   "id": "2d4dcfb3",
   "metadata": {},
   "outputs": [],
   "source": [
    "df['atemp'].hist()"
   ]
  },
  {
   "cell_type": "code",
   "execution_count": null,
   "id": "c5f4ce1b",
   "metadata": {},
   "outputs": [],
   "source": [
    "df.groupby(['atemp'])['count'].mean().plot()\n",
    "plt.show()"
   ]
  },
  {
   "cell_type": "code",
   "execution_count": null,
   "id": "c94785d9",
   "metadata": {},
   "outputs": [],
   "source": [
    "df.groupby(['humidity'])['count'].mean().plot()\n",
    "plt.ylabel('count')\n",
    "plt.show()"
   ]
  },
  {
   "cell_type": "code",
   "execution_count": null,
   "id": "b8747401",
   "metadata": {},
   "outputs": [],
   "source": [
    "df.groupby(['windspeed'])['count'].mean().plot()\n",
    "plt.ylabel('count')\n",
    "plt.show()"
   ]
  },
  {
   "cell_type": "code",
   "execution_count": null,
   "id": "e66da226",
   "metadata": {},
   "outputs": [],
   "source": [
    "df.groupby(['casual'])['count'].mean().plot()\n",
    "plt.ylabel('count')\n",
    "plt.show()"
   ]
  },
  {
   "cell_type": "code",
   "execution_count": null,
   "id": "a201703d",
   "metadata": {},
   "outputs": [],
   "source": [
    "df.groupby(['registered'])['count'].mean().plot()\n",
    "plt.ylabel('count')\n",
    "plt.show()"
   ]
  },
  {
   "cell_type": "code",
   "execution_count": null,
   "id": "5e4b7bb3",
   "metadata": {},
   "outputs": [],
   "source": [
    "season\tholiday\tworkingday\tweather"
   ]
  },
  {
   "cell_type": "code",
   "execution_count": null,
   "id": "87d83b69",
   "metadata": {},
   "outputs": [],
   "source": [
    "df.groupby(['season'])['count'].mean().plot()\n",
    "plt.ylabel('count')\n",
    "plt.show()"
   ]
  },
  {
   "cell_type": "code",
   "execution_count": null,
   "id": "fe04e1a5",
   "metadata": {},
   "outputs": [],
   "source": [
    "df.groupby(['holiday'])['count'].mean().plot()\n",
    "plt.ylabel('count')\n",
    "plt.show()"
   ]
  },
  {
   "cell_type": "code",
   "execution_count": null,
   "id": "99c181d5",
   "metadata": {},
   "outputs": [],
   "source": [
    "df.groupby(['workingday'])['count'].mean().plot()\n",
    "plt.ylabel('count')\n",
    "plt.show()"
   ]
  },
  {
   "cell_type": "code",
   "execution_count": null,
   "id": "d81e6474",
   "metadata": {},
   "outputs": [],
   "source": [
    "df.groupby(['weather'])['count'].mean().plot()\n",
    "plt.ylabel('count')\n",
    "plt.show()"
   ]
  },
  {
   "cell_type": "code",
   "execution_count": null,
   "id": "26116d75",
   "metadata": {},
   "outputs": [],
   "source": [
    "df['holiday'].unique()"
   ]
  },
  {
   "cell_type": "code",
   "execution_count": null,
   "id": "5a25780d",
   "metadata": {},
   "outputs": [],
   "source": [
    "sns.pairplot(df)"
   ]
  },
  {
   "cell_type": "code",
   "execution_count": null,
   "id": "f545f362",
   "metadata": {},
   "outputs": [],
   "source": []
  }
 ],
 "metadata": {
  "kernelspec": {
   "display_name": "Python 3.9 (tensorflow)",
   "language": "python",
   "name": "tensorflow"
  },
  "language_info": {
   "codemirror_mode": {
    "name": "ipython",
    "version": 3
   },
   "file_extension": ".py",
   "mimetype": "text/x-python",
   "name": "python",
   "nbconvert_exporter": "python",
   "pygments_lexer": "ipython3",
   "version": "3.9.7"
  }
 },
 "nbformat": 4,
 "nbformat_minor": 5
}
